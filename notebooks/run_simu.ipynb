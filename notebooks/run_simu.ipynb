{
 "cells": [
  {
   "cell_type": "code",
   "execution_count": 1,
   "metadata": {},
   "outputs": [],
   "source": [
    "import os\n",
    "import argparse\n",
    "from argparse import Namespace\n",
    "import time\n",
    "import json\n",
    "import pickle\n",
    "import torch\n",
    "import numpy as np\n",
    "import random\n",
    "\n",
    "from train import train\n",
    "from utils import get_simu_data"
   ]
  },
  {
   "cell_type": "code",
   "execution_count": 2,
   "metadata": {},
   "outputs": [],
   "source": [
    "opts = Namespace(\n",
    "\tbatch_size = 256,\n",
    "\tmode = 'train',\n",
    "\tlr = 5e-2,\n",
    "\tepochs = 200,\n",
    "\tgrad_clip = False,\n",
    "\tmxAlpha = 4,\n",
    "\tmxBeta = 0.5,\n",
    "\tmxTemp = 1,\n",
    "\tlmbda = 1e-1,\n",
    "\tMMD_sigma = 1000,\n",
    "\tkernel_num = 10,\n",
    "\tmatched_IO = False,\n",
    "\tlatdim = 5,\n",
    "\tseed = 12\n",
    ")\n",
    "\n",
    "device = 'cuda:0'\n",
    "\n",
    "torch.manual_seed(opts.seed)\n",
    "np.random.seed(opts.seed)\n",
    "random.seed(opts.seed)"
   ]
  },
  {
   "cell_type": "markdown",
   "metadata": {},
   "source": [
    "# 1. load data"
   ]
  },
  {
   "cell_type": "code",
   "execution_count": 3,
   "metadata": {},
   "outputs": [
    {
     "name": "stderr",
     "output_type": "stream",
     "text": [
      "100%|██████████| 5/5 [00:00<00:00, 6411.35it/s]\n"
     ]
    }
   ],
   "source": [
    "dataloader, dataloader2, dim, cdim, ptb_targets, nonlinear = get_simu_data(batch_size=opts.batch_size, mode=opts.mode)"
   ]
  },
  {
   "cell_type": "code",
   "execution_count": 4,
   "metadata": {},
   "outputs": [],
   "source": [
    "dataloader3, dim, cdim, ptb_targets, nonlinear = get_simu_data(batch_size=opts.batch_size, mode='test', perturb_targets=ptb_targets)"
   ]
  },
  {
   "cell_type": "markdown",
   "metadata": {},
   "source": [
    "# 2. training"
   ]
  },
  {
   "cell_type": "code",
   "execution_count": 5,
   "metadata": {},
   "outputs": [],
   "source": [
    "opts.dim = dim\n",
    "if opts.latdim is None:\n",
    "\topts.latdim = cdim\n",
    "opts.cdim = cdim"
   ]
  },
  {
   "cell_type": "code",
   "execution_count": 6,
   "metadata": {},
   "outputs": [
    {
     "name": "stderr",
     "output_type": "stream",
     "text": [
      "Failed to detect the name of this notebook, you can set it manually with the WANDB_NOTEBOOK_NAME environment variable to enable code saving.\n",
      "\u001b[34m\u001b[1mwandb\u001b[0m: Currently logged in as: \u001b[33mjqvicky\u001b[0m. Use \u001b[1m`wandb login --relogin`\u001b[0m to force relogin\n"
     ]
    },
    {
     "data": {
      "text/html": [
       "wandb version 0.15.8 is available!  To upgrade, please run:\n",
       " $ pip install wandb --upgrade"
      ],
      "text/plain": [
       "<IPython.core.display.HTML object>"
      ]
     },
     "metadata": {},
     "output_type": "display_data"
    },
    {
     "data": {
      "text/html": [
       "Tracking run with wandb version 0.13.5"
      ],
      "text/plain": [
       "<IPython.core.display.HTML object>"
      ]
     },
     "metadata": {},
     "output_type": "display_data"
    },
    {
     "data": {
      "text/html": [
       "Run data is saved locally in <code>/home/jzhang/discrepancy_vae/identifiable_causal_vae/src/wandb/run-20230806_131515-3mphhaux</code>"
      ],
      "text/plain": [
       "<IPython.core.display.HTML object>"
      ]
     },
     "metadata": {},
     "output_type": "display_data"
    },
    {
     "data": {
      "text/html": [
       "Syncing run <strong><a href=\"https://wandb.ai/jqvicky/cmvae/runs/3mphhaux\" target=\"_blank\">giddy-hill-152</a></strong> to <a href=\"https://wandb.ai/jqvicky/cmvae\" target=\"_blank\">Weights & Biases</a> (<a href=\"https://wandb.me/run\" target=\"_blank\">docs</a>)<br/>"
      ],
      "text/plain": [
       "<IPython.core.display.HTML object>"
      ]
     },
     "metadata": {},
     "output_type": "display_data"
    },
    {
     "name": "stdout",
     "output_type": "stream",
     "text": [
      "Training for 200 epochs...\n",
      "Epoch 0: Loss=0.5483091431336444, MMD=3.397153612495603, MSE=0.49803947497502443, KL=5.4522780228670165,L1=0.5026966815862007\n",
      "Epoch 10: Loss=0.3402681605554913, MMD=1.3278715617912755, MSE=0.0514373930519065, KL=19.4606314737011,L1=0.06304917185554498\n",
      "Epoch 20: Loss=0.36442928580170514, MMD=0.09534505955497466, MSE=0.10932607770925129, KL=6.952241968730732,L1=0.10322918137271953\n",
      "Epoch 30: Loss=0.5370555298699005, MMD=0.08185833480368947, MSE=0.172719814243455, KL=4.893635142557624,L1=0.18329890316062739\n",
      "Epoch 40: Loss=0.6839806009681519, MMD=0.07043181320824816, MSE=0.22919768096772675, KL=4.189919535169198,L1=0.17351202283923253\n",
      "Epoch 50: Loss=1.2151819705047406, MMD=0.2467467072221683, MSE=0.3672298021416428, KL=3.1651880580056053,L1=0.4051796959715195\n",
      "Epoch 60: Loss=0.8641253212541342, MMD=0.05043597929011804, MSE=0.3579829976615279, KL=2.8113416630021826,L1=0.16230117766765786\n",
      "Epoch 70: Loss=1.1168081189489696, MMD=0.10335752405695517, MSE=0.450141075383134, KL=2.2916747356380203,L1=0.1702660799928159\n",
      "Epoch 80: Loss=1.090117840643924, MMD=0.0663308206492495, MSE=0.4856484503346271, KL=1.9898466419605516,L1=0.24285168659613152\n",
      "Epoch 90: Loss=1.6591667397428878, MMD=0.16274958988440996, MSE=0.6074152083563711, KL=1.9600109155444891,L1=0.48265674858211344\n",
      "Epoch 100: Loss=2.144311451866544, MMD=0.24367957052670247, MSE=0.7170352226390124, KL=1.7006392152501988,L1=0.47643872386387437\n",
      "Epoch 110: Loss=1.3589602951353719, MMD=0.08007795482658144, MSE=0.6330202194995682, KL=1.4203561675471463,L1=0.2987265062611796\n",
      "Epoch 120: Loss=2.035040946805187, MMD=0.20980966384110852, MSE=0.6612594867109534, KL=1.6029454648543606,L1=0.6807720514392906\n",
      "Epoch 130: Loss=1.3149526951249162, MMD=0.05409529552028504, MSE=0.6821303880283374, KL=1.200523197952143,L1=0.3532263641312775\n",
      "Epoch 140: Loss=1.3814428299220807, MMD=0.08258512908479906, MSE=0.6698543937079837, KL=1.0016723143122421,L1=0.3675741218735829\n",
      "Epoch 150: Loss=1.3423039869939222, MMD=0.04800852622085735, MSE=0.7270475720182182, KL=1.0506212165635707,L1=0.3410335375096953\n",
      "Epoch 160: Loss=1.5537174464889234, MMD=0.11360213092133589, MSE=0.7425194863545087, KL=0.8496318121783171,L1=0.19633950200961078\n",
      "Epoch 170: Loss=1.3106357731353715, MMD=0.05916917855347822, MSE=0.71800108961121, KL=0.7787348340431797,L1=0.2633476330824431\n",
      "Epoch 180: Loss=1.4594385190092862, MMD=0.0898018552228488, MSE=0.7519031727657192, KL=0.7200001338627329,L1=0.24518332030151857\n",
      "Epoch 190: Loss=1.4013984657354615, MMD=0.0704786373974861, MSE=0.7506630297082321, KL=0.6833663443743141,L1=0.4340834052733064\n"
     ]
    }
   ],
   "source": [
    "# [2,3,1,4,0]\n",
    "# [4,3,2,1,0]\n",
    "# [0,2,1,3,4]) \n",
    "train(dataloader, opts, device, '../result/', log=True, simu=True, nonlinear=nonlinear, order=[0,1,2,3,4])"
   ]
  },
  {
   "cell_type": "code",
   "execution_count": 7,
   "metadata": {},
   "outputs": [
    {
     "data": {
      "text/plain": [
       "6"
      ]
     },
     "execution_count": 7,
     "metadata": {},
     "output_type": "execute_result"
    }
   ],
   "source": [
    "def kendall_tau_distance(perm1, perm2):\n",
    "    if len(perm1) != len(perm2):\n",
    "        raise ValueError(\"Permutations must have the same length.\")\n",
    "\n",
    "    distance = 0\n",
    "    for i in range(len(perm1)):\n",
    "        for j in range(i + 1, len(perm1)):\n",
    "            if (perm1[i] < perm1[j] and perm2[i] > perm2[j]) or \\\n",
    "               (perm1[i] > perm1[j] and perm2[i] < perm2[j]):\n",
    "                distance += 1\n",
    "\n",
    "    return distance\n",
    "\n",
    "kendall_tau_distance([0,1,2,3,4], [2,3,1,4,0])"
   ]
  },
  {
   "cell_type": "markdown",
   "metadata": {},
   "source": [
    "# 3. evaluation "
   ]
  },
  {
   "cell_type": "code",
   "execution_count": 8,
   "metadata": {},
   "outputs": [],
   "source": [
    "savedir = '../result/' \n",
    "\n",
    "model = torch.load(f'{savedir}/best_model.pt')"
   ]
  },
  {
   "cell_type": "markdown",
   "metadata": {},
   "source": [
    "## 3.1 graph"
   ]
  },
  {
   "cell_type": "code",
   "execution_count": 9,
   "metadata": {},
   "outputs": [
    {
     "name": "stdout",
     "output_type": "stream",
     "text": [
      "[0, 1, 2, 3, 4]\n"
     ]
    }
   ],
   "source": [
    "model.eval()\n",
    "order = []\n",
    "c_set = np.eye(5)\n",
    "for i in range(5):\n",
    "    c = c_set[i,:]\n",
    "    c = torch.from_numpy(c).to(device).double().unsqueeze(0)\n",
    "\n",
    "    bc,csz = model.c_encode(c, temp=1)\n",
    "    order.append(bc.argmax().item())\n",
    "\n",
    "print(order)"
   ]
  },
  {
   "cell_type": "code",
   "execution_count": 29,
   "metadata": {},
   "outputs": [
    {
     "data": {
      "text/plain": [
       "tensor([[ 0.0000e+00,  6.5912e-02, -5.6734e-03,  7.7172e-03,  1.8802e-03],\n",
       "        [ 0.0000e+00,  0.0000e+00, -8.4931e-03, -4.3890e-06, -2.9855e-03],\n",
       "        [ 0.0000e+00,  0.0000e+00,  0.0000e+00,  7.5429e-03,  3.4560e-03],\n",
       "        [ 0.0000e+00,  0.0000e+00,  0.0000e+00,  0.0000e+00,  2.3644e-03],\n",
       "        [ 0.0000e+00,  0.0000e+00,  0.0000e+00,  0.0000e+00,  0.0000e+00]],\n",
       "       device='cuda:0', dtype=torch.float64, grad_fn=<TriuBackward0>)"
      ]
     },
     "execution_count": 29,
     "metadata": {},
     "output_type": "execute_result"
    }
   ],
   "source": [
    "torch.triu(model.G, diagonal=1)"
   ]
  },
  {
   "cell_type": "code",
   "execution_count": 11,
   "metadata": {},
   "outputs": [],
   "source": [
    "threshold = [0.01]#np.arange(0,1,0.0001)\n",
    "SHD = []\n",
    "\n",
    "def structural_hamming_distance(adj_matrix1, adj_matrix2):\n",
    "    shd = 0\n",
    "    n = len(adj_matrix1)\n",
    "\n",
    "    for i in range(n):\n",
    "        for j in range(n):\n",
    "            if adj_matrix1[i][j] != adj_matrix2[i][j]:\n",
    "                shd += 1\n",
    "\n",
    "    return shd\n",
    "\n",
    "\n",
    "Gp_f = (abs(np.diag(np.ones(cdim - 1), 1)) > 0)\n",
    "for t in threshold:\n",
    "    G_f = (abs(torch.triu(model.G, diagonal=1).detach().cpu().numpy()[order,:][:,order])>t)\n",
    "    shd = structural_hamming_distance(Gp_f, G_f)\n",
    "    SHD.append(shd)"
   ]
  },
  {
   "cell_type": "code",
   "execution_count": 12,
   "metadata": {},
   "outputs": [
    {
     "data": {
      "text/plain": [
       "(array([0., 0., 0., 0., 0., 1., 0., 0., 0., 0.]),\n",
       " array([2.5, 2.6, 2.7, 2.8, 2.9, 3. , 3.1, 3.2, 3.3, 3.4, 3.5]),\n",
       " <BarContainer object of 10 artists>)"
      ]
     },
     "execution_count": 12,
     "metadata": {},
     "output_type": "execute_result"
    },
    {
     "data": {
      "image/png": "[encoded data removed]",
      "text/plain": [
       "<Figure size 400x400 with 1 Axes>"
      ]
     },
     "metadata": {},
     "output_type": "display_data"
    }
   ],
   "source": [
    "import matplotlib.pyplot as plt\n",
    "plt.figure(figsize=(4,4))\n",
    "plt.hist(SHD)"
   ]
  },
  {
   "cell_type": "markdown",
   "metadata": {},
   "source": [
    "## 3.2 test training and single"
   ]
  },
  {
   "cell_type": "code",
   "execution_count": 13,
   "metadata": {},
   "outputs": [],
   "source": [
    "from inference import evaluate_generated_samples\n",
    "\n",
    "rmse, signerr, gt_y, pred_y, c_y, gt_x = evaluate_generated_samples(model, dataloader, device, 1, 1)"
   ]
  },
  {
   "cell_type": "code",
   "execution_count": 14,
   "metadata": {},
   "outputs": [
    {
     "name": "stderr",
     "output_type": "stream",
     "text": [
      "100%|██████████| 5/5 [00:00<00:00, 11748.75it/s]\n"
     ]
    }
   ],
   "source": [
    "from utils import MMD_loss\n",
    "from tqdm import tqdm\n",
    "\n",
    "C_y = [','.join([str(l) for l in np.where(c_y[i]!=0)[0]]) for i in range(c_y.shape[0])]\n",
    "loss =  MMD_loss(fix_sigma=1000, kernel_num=10)\n",
    "\n",
    "mmd_loss = {}\n",
    "rmse_loss = {}\n",
    "r2 = {}\n",
    "for i in range(len(C_y)//opts.batch_size):\n",
    "\ty = torch.from_numpy(gt_y[i*opts.batch_size:(i+1)*opts.batch_size])\n",
    "\ty_hat = torch.from_numpy(pred_y[i*opts.batch_size:(i+1)*opts.batch_size])\n",
    "\tc = C_y[i*opts.batch_size]\n",
    "\tif c in mmd_loss.keys():\n",
    "\t\tmmd_loss[c].append(loss(y_hat, y).item())\n",
    "\telse:\n",
    "\t\tmmd_loss[c] = [loss(y_hat, y).item()] \n",
    "        \n",
    "# test\n",
    "mmd_loss_summary = {}\n",
    "for k in tqdm(mmd_loss.keys()):\n",
    "\tmmd_loss_summary[k] = (np.average(mmd_loss[k]), np.std(mmd_loss[k]))"
   ]
  },
  {
   "cell_type": "code",
   "execution_count": 15,
   "metadata": {},
   "outputs": [
    {
     "name": "stdout",
     "output_type": "stream",
     "text": [
      "mmd\n",
      "mean 0.03837238996400031\n",
      "ste 0.008028846917896878\n"
     ]
    }
   ],
   "source": [
    "print('mmd')\n",
    "print('mean', np.mean([i[0] for i in mmd_loss_summary.values()]))\n",
    "print('ste', np.std([i[0] for i in mmd_loss_summary.values()])/np.sqrt(len(mmd_loss_summary.keys())))"
   ]
  },
  {
   "cell_type": "markdown",
   "metadata": {},
   "source": [
    "## 3.3 test doubles"
   ]
  },
  {
   "cell_type": "code",
   "execution_count": 16,
   "metadata": {},
   "outputs": [],
   "source": [
    "rmse, signerr, gt_y, pred_y, c_y, gt_x = evaluate_generated_samples(model, dataloader3, device, 1, 2)"
   ]
  },
  {
   "cell_type": "code",
   "execution_count": 17,
   "metadata": {},
   "outputs": [
    {
     "name": "stderr",
     "output_type": "stream",
     "text": [
      "100%|██████████| 10/10 [00:00<00:00, 23603.29it/s]\n"
     ]
    }
   ],
   "source": [
    "from utils import MMD_loss\n",
    "from tqdm import tqdm\n",
    "\n",
    "C_y = [','.join([str(l) for l in np.where(c_y[i]!=0)[0]]) for i in range(c_y.shape[0])]\n",
    "loss =  MMD_loss(fix_sigma=1000, kernel_num=10)\n",
    "\n",
    "mmd_loss = {}\n",
    "rmse_loss = {}\n",
    "r2 = {}\n",
    "for i in range(len(C_y)//opts.batch_size):\n",
    "\ty = torch.from_numpy(gt_y[i*opts.batch_size:(i+1)*opts.batch_size])\n",
    "\ty_hat = torch.from_numpy(pred_y[i*opts.batch_size:(i+1)*opts.batch_size])\n",
    "\tc = C_y[i*opts.batch_size]\n",
    "\tif c in mmd_loss.keys():\n",
    "\t\tmmd_loss[c].append(loss(y_hat, y).item())\n",
    "\telse:\n",
    "\t\tmmd_loss[c] = [loss(y_hat, y).item()] \n",
    "        \n",
    "# test\n",
    "mmd_loss_summary = {}\n",
    "for k in tqdm(mmd_loss.keys()):\n",
    "\tmmd_loss_summary[k] = (np.average(mmd_loss[k]), np.std(mmd_loss[k]))"
   ]
  },
  {
   "cell_type": "code",
   "execution_count": 18,
   "metadata": {},
   "outputs": [
    {
     "name": "stdout",
     "output_type": "stream",
     "text": [
      "mmd\n",
      "mean 0.0873145686858263\n",
      "ste 0.00882843405499783\n"
     ]
    }
   ],
   "source": [
    "print('mmd')\n",
    "print('mean', np.mean([i[0] for i in mmd_loss_summary.values()]))\n",
    "print('ste', np.std([i[0] for i in mmd_loss_summary.values()])/np.sqrt(len(mmd_loss_summary.keys())))"
   ]
  },
  {
   "cell_type": "code",
   "execution_count": 86,
   "metadata": {},
   "outputs": [
    {
     "data": {
      "image/png": "[encoded data removed]",
      "text/plain": [
       "<Figure size 800x500 with 3 Axes>"
      ]
     },
     "metadata": {},
     "output_type": "display_data"
    }
   ],
   "source": [
    "fig, axs = plt.subplots(1, 2, figsize=(8, 5), sharey=True)\n",
    "axs[0].imshow(pred_y[1024:1024+16,:], vmin=-2, vmax=12)\n",
    "axs[0].set_title('Predicted')\n",
    "im = axs[1].imshow(gt_y[1024:1024+16,:], vmin=-2, vmax=12)\n",
    "axs[1].set_title('Ground Truth')\n",
    "axs[0].set_ylabel('samples')\n",
    "axs[0].set_xlabel('X')\n",
    "axs[1].set_xlabel('X')\n",
    "fig.subplots_adjust(right=1)\n",
    "fig.colorbar(im, ax=axs.ravel().tolist())\n",
    "fig.savefig('./figures/simu-output.pdf')"
   ]
  },
  {
   "cell_type": "code",
   "execution_count": null,
   "metadata": {},
   "outputs": [],
   "source": []
  }
 ],
 "metadata": {
  "kernelspec": {
   "display_name": "causalvae",
   "language": "python",
   "name": "python3"
  },
  "language_info": {
   "codemirror_mode": {
    "name": "ipython",
    "version": 3
   },
   "file_extension": ".py",
   "mimetype": "text/x-python",
   "name": "python",
   "nbconvert_exporter": "python",
   "pygments_lexer": "ipython3",
   "version": "3.8.13"
  },
  "orig_nbformat": 4
 },
 "nbformat": 4,
 "nbformat_minor": 2
}
